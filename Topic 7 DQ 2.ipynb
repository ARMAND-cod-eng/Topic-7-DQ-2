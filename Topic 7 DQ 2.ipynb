{
 "cells": [
  {
   "cell_type": "markdown",
   "id": "a764db20",
   "metadata": {},
   "source": [
    "# Topic 7 DQ 2"
   ]
  },
  {
   "cell_type": "markdown",
   "id": "6e6fc69b",
   "metadata": {},
   "source": [
    "What are some potential limitations or assumptions of ANOVA and linear models, and how might these affect the validity of the results? How can these limitations be addressed or mitigated? How can Python be used to develop a useful tool in this context?\n",
    "\n",
    "Prepare your answer as follows:\n",
    "\n",
    "   - Provide a professionally written answer, anchored in scholarly work.\n",
    "   - Create a diagram, table, or other visual prop to help explain your answer and include 1–2 sentences describing the visuals.\n",
    "   - Include a Jupyter notebook with the relevant Python code you created.\n",
    "   - Record a short 2- to 3-minute video (using tools like Zoom or Loom) in which you explain your answer and code. Use an online video platform such as Loom, YouTube, or Vimeo to upload your completed video. Include the link to the video in your answer."
   ]
  },
  {
   "cell_type": "markdown",
   "id": "ff9e942d",
   "metadata": {},
   "source": [
    "### Definition:\n",
    "- ANOVA is a statistical technique that assesses potential differences in a scale-level dependent variable by a nominal-level variable having 2 or more categories.  For example, an ANOVA can examine potential differences in IQ scores by Country (US vs. Canada vs. Italy vs. Spain).  Developed by Ronald Fisher in 1918, this test extends the t and the z test which have the problem of only allowing the nominal level variable to have two categories.  This test is also called the Fisher analysis of variance.\n",
    "- We can define linear regression as being used to learn the linear relationship between the target and one or more forecasters, and it is probably one of the most popular and effective deductive algorithms in the field of statistics. Linear regression attempts to demonstrate the link between two variables by fitting a linear equation to the observed information. One of the variables is considered an explanatory variable and the other a dependent variable. \n"
   ]
  },
  {
   "cell_type": "markdown",
   "id": "8e7653b3",
   "metadata": {},
   "source": [
    "### Limitations and Assumptions of ANOVA and Linear Models\n",
    "\n",
    "Assumptions of Linear Regression\n",
    " \n",
    "To conduct a simple linear regression, one has to make certain assumptions about the data:\n",
    " \n",
    "- Homogeneity of variance (homoscedasticity)- One of the main predictions in a simple linear regression method is that the size of the error stays constant. This simply means that in the value of the independent variable, the error size never changes significantly.\n",
    "\n",
    "- Independence of observations- All the relationships between the observations are transparent, which means that nothing is hidden, and only valid sampling methods are used during the collection of data.\n",
    "\n",
    "- Normality- There is a normal rate of flow in the data.\n",
    "\n",
    "Assumptions of ANOVA\n",
    "There are three assumptions that should be met when computing an ANOVA:\n",
    "\n",
    "- normal population distribution. The distribution of values within each group should be normally distributed. If a transformation is applied to the data, it should be applied to all batches\n",
    "\n",
    "- Homogeneity of variance: The variance between the batches (homogeneity of variance) should be similar.\n",
    "\n",
    "- The data are independent.\n"
   ]
  },
  {
   "cell_type": "markdown",
   "id": "81e973f8",
   "metadata": {},
   "source": [
    "Addressing or mitigating the limitations of ANOVA and linear models involves a combination of careful data preprocessing, model diagnostics, and potentially using alternative statistical methods. Here are some strategies:\n",
    "\n",
    "1.\tCheck for Normality and Homoscedasticity: Conduct normality tests on the residuals (e.g., Shapiro-Wilk test) and homogeneity of variance tests (e.g., Levene's test). If these assumptions are violated, consider transforming the data (e.g., using logarithmic or square root transformations) or using robust regression techniques that are less sensitive to these assumptions.\n",
    "\n",
    "2.\tAddress Nonlinearity: If the relationship between the independent and dependent variables is nonlinear, consider using polynomial regression, spline regression, or generalized additive models (GAMs) that can capture nonlinear relationships more flexibly.\n",
    "\n",
    "3.\tAccount for Non-independence: In cases of non-independent data (e.g., repeated measures or clustered data), use mixed-effects models or generalized estimating equations (GEE) that can appropriately account for the correlation structure in the data.\n"
   ]
  },
  {
   "cell_type": "code",
   "execution_count": null,
   "id": "86e5a475",
   "metadata": {},
   "outputs": [],
   "source": []
  },
  {
   "cell_type": "code",
   "execution_count": 2,
   "id": "ae6033d0",
   "metadata": {},
   "outputs": [],
   "source": [
    "import pandas as pd\n",
    "import numpy as np\n",
    "import matplotlib.pyplot as plt\n",
    "import seaborn as sns\n",
    "from scipy.stats import shapiro, levene\n",
    "import statsmodels.api as sm\n",
    "from statsmodels.formula.api import ols\n",
    "\n"
   ]
  },
  {
   "cell_type": "code",
   "execution_count": 3,
   "id": "ad7575ab",
   "metadata": {},
   "outputs": [
    {
     "data": {
      "text/html": [
       "<div>\n",
       "<style scoped>\n",
       "    .dataframe tbody tr th:only-of-type {\n",
       "        vertical-align: middle;\n",
       "    }\n",
       "\n",
       "    .dataframe tbody tr th {\n",
       "        vertical-align: top;\n",
       "    }\n",
       "\n",
       "    .dataframe thead th {\n",
       "        text-align: right;\n",
       "    }\n",
       "</style>\n",
       "<table border=\"1\" class=\"dataframe\">\n",
       "  <thead>\n",
       "    <tr style=\"text-align: right;\">\n",
       "      <th></th>\n",
       "      <th>Education</th>\n",
       "      <th>Occupation</th>\n",
       "      <th>Salary</th>\n",
       "    </tr>\n",
       "  </thead>\n",
       "  <tbody>\n",
       "    <tr>\n",
       "      <th>0</th>\n",
       "      <td>3</td>\n",
       "      <td>1</td>\n",
       "      <td>153197</td>\n",
       "    </tr>\n",
       "    <tr>\n",
       "      <th>1</th>\n",
       "      <td>3</td>\n",
       "      <td>1</td>\n",
       "      <td>115945</td>\n",
       "    </tr>\n",
       "    <tr>\n",
       "      <th>2</th>\n",
       "      <td>3</td>\n",
       "      <td>1</td>\n",
       "      <td>175935</td>\n",
       "    </tr>\n",
       "    <tr>\n",
       "      <th>3</th>\n",
       "      <td>3</td>\n",
       "      <td>1</td>\n",
       "      <td>220754</td>\n",
       "    </tr>\n",
       "    <tr>\n",
       "      <th>4</th>\n",
       "      <td>3</td>\n",
       "      <td>2</td>\n",
       "      <td>170769</td>\n",
       "    </tr>\n",
       "    <tr>\n",
       "      <th>...</th>\n",
       "      <td>...</td>\n",
       "      <td>...</td>\n",
       "      <td>...</td>\n",
       "    </tr>\n",
       "    <tr>\n",
       "      <th>595</th>\n",
       "      <td>2</td>\n",
       "      <td>4</td>\n",
       "      <td>173935</td>\n",
       "    </tr>\n",
       "    <tr>\n",
       "      <th>596</th>\n",
       "      <td>2</td>\n",
       "      <td>4</td>\n",
       "      <td>212448</td>\n",
       "    </tr>\n",
       "    <tr>\n",
       "      <th>597</th>\n",
       "      <td>2</td>\n",
       "      <td>4</td>\n",
       "      <td>173664</td>\n",
       "    </tr>\n",
       "    <tr>\n",
       "      <th>598</th>\n",
       "      <td>2</td>\n",
       "      <td>4</td>\n",
       "      <td>212760</td>\n",
       "    </tr>\n",
       "    <tr>\n",
       "      <th>599</th>\n",
       "      <td>3</td>\n",
       "      <td>4</td>\n",
       "      <td>212781</td>\n",
       "    </tr>\n",
       "  </tbody>\n",
       "</table>\n",
       "<p>600 rows × 3 columns</p>\n",
       "</div>"
      ],
      "text/plain": [
       "     Education  Occupation  Salary\n",
       "0            3           1  153197\n",
       "1            3           1  115945\n",
       "2            3           1  175935\n",
       "3            3           1  220754\n",
       "4            3           2  170769\n",
       "..         ...         ...     ...\n",
       "595          2           4  173935\n",
       "596          2           4  212448\n",
       "597          2           4  173664\n",
       "598          2           4  212760\n",
       "599          3           4  212781\n",
       "\n",
       "[600 rows x 3 columns]"
      ]
     },
     "execution_count": 3,
     "metadata": {},
     "output_type": "execute_result"
    }
   ],
   "source": [
    "df = pd.read_excel(\"SalaryDataNWW.xlsx\")\n",
    "df"
   ]
  },
  {
   "cell_type": "code",
   "execution_count": 4,
   "id": "ff6afff4",
   "metadata": {},
   "outputs": [
    {
     "name": "stdout",
     "output_type": "stream",
     "text": [
      "Shapiro-Wilk Test for Normality of Residuals:\n",
      "Test Statistic: 0.9675657153129578\n",
      "p-value: 3.004308191112415e-10\n"
     ]
    }
   ],
   "source": [
    "# Check for normality of residuals\n",
    "residuals = df['Salary'] - df.groupby('Education')['Salary'].transform('mean')\n",
    "shapiro_test = shapiro(residuals)\n",
    "print(\"Shapiro-Wilk Test for Normality of Residuals:\")\n",
    "print(\"Test Statistic:\", shapiro_test.statistic)\n",
    "print(\"p-value:\", shapiro_test.pvalue)"
   ]
  },
  {
   "cell_type": "code",
   "execution_count": 5,
   "id": "d1ff4ee9",
   "metadata": {},
   "outputs": [
    {
     "name": "stdout",
     "output_type": "stream",
     "text": [
      "\n",
      "Levene's Test for Homogeneity of Variances:\n",
      "Test Statistic: 30.33554107752547\n",
      "p-value: 2.836136086487574e-13\n"
     ]
    }
   ],
   "source": [
    "# Check for homogeneity of variances\n",
    "levene_test = levene(*[group['Salary'] for name, group in df.groupby('Education')])\n",
    "print(\"\\nLevene's Test for Homogeneity of Variances:\")\n",
    "print(\"Test Statistic:\", levene_test.statistic)\n",
    "print(\"p-value:\", levene_test.pvalue)"
   ]
  },
  {
   "cell_type": "code",
   "execution_count": 6,
   "id": "a1f7b7d1",
   "metadata": {},
   "outputs": [
    {
     "data": {
      "image/png": "[encoded data removed]",
      "text/plain": [
       "<Figure size 1000x600 with 1 Axes>"
      ]
     },
     "metadata": {},
     "output_type": "display_data"
    }
   ],
   "source": [
    "# Transforming data\n",
    "df['Transformed_Salary'] = np.sqrt(df['Salary'])  # Square root transformation\n",
    "\n",
    "# Fit linear regression model with transformed data\n",
    "model = ols('Transformed_Salary ~ Education', data=df).fit()\n",
    "\n",
    "# Diagnostic plots\n",
    "plt.figure(figsize=(10, 6))\n",
    "sns.residplot(x=model.fittedvalues, y=model.resid, lowess=True, line_kws={'color': 'red'})\n",
    "plt.title('Residuals vs Fitted Plot')\n",
    "plt.xlabel('Fitted values')\n",
    "plt.ylabel('Residuals')\n",
    "plt.show()"
   ]
  },
  {
   "cell_type": "code",
   "execution_count": 8,
   "id": "45492f2a",
   "metadata": {},
   "outputs": [
    {
     "name": "stdout",
     "output_type": "stream",
     "text": [
      "\n",
      "Linear Regression results with Transformed Data:\n",
      "                              OLS Regression Results                              \n",
      "==================================================================================\n",
      "Dep. Variable:     Transformed_Test_Score   R-squared:                       0.702\n",
      "Model:                                OLS   Adj. R-squared:                  0.603\n",
      "Method:                     Least Squares   F-statistic:                     7.082\n",
      "Date:                    Tue, 02 Apr 2024   Prob (F-statistic):             0.0263\n",
      "Time:                            00:20:19   Log-Likelihood:                0.67975\n",
      "No. Observations:                       9   AIC:                             4.640\n",
      "Df Residuals:                           6   BIC:                             5.232\n",
      "Df Model:                               2                                         \n",
      "Covariance Type:                nonrobust                                         \n",
      "========================================================================================\n",
      "                           coef    std err          t      P>|t|      [0.025      0.975]\n",
      "----------------------------------------------------------------------------------------\n",
      "Intercept                9.2169      0.159     58.095      0.000       8.829       9.605\n",
      "Teaching_Method[T.B]    -0.5598      0.224     -2.495      0.047      -1.109      -0.011\n",
      "Teaching_Method[T.C]     0.2675      0.224      1.192      0.278      -0.282       0.817\n",
      "==============================================================================\n",
      "Omnibus:                        2.309   Durbin-Watson:                   2.209\n",
      "Prob(Omnibus):                  0.315   Jarque-Bera (JB):                0.834\n",
      "Skew:                          -0.019   Prob(JB):                        0.659\n",
      "Kurtosis:                       1.509   Cond. No.                         3.73\n",
      "==============================================================================\n",
      "\n",
      "Notes:\n",
      "[1] Standard Errors assume that the covariance matrix of the errors is correctly specified.\n"
     ]
    },
    {
     "name": "stderr",
     "output_type": "stream",
     "text": [
      "C:\\Users\\ARMAND\\anaconda3\\Lib\\site-packages\\scipy\\stats\\_stats_py.py:1806: UserWarning: kurtosistest only valid for n>=20 ... continuing anyway, n=9\n",
      "  warnings.warn(\"kurtosistest only valid for n>=20 ... continuing \"\n"
     ]
    }
   ],
   "source": [
    "# Print regression summary\n",
    "print(\"\\nLinear Regression results with Transformed Data:\")\n",
    "print(model.summary())"
   ]
  }
 ],
 "metadata": {
  "kernelspec": {
   "display_name": "Python 3 (ipykernel)",
   "language": "python",
   "name": "python3"
  },
  "language_info": {
   "codemirror_mode": {
    "name": "ipython",
    "version": 3
   },
   "file_extension": ".py",
   "mimetype": "text/x-python",
   "name": "python",
   "nbconvert_exporter": "python",
   "pygments_lexer": "ipython3",
   "version": "3.11.5"
  }
 },
 "nbformat": 4,
 "nbformat_minor": 5
}
